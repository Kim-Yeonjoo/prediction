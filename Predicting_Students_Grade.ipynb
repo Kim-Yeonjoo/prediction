{
 "cells": [
  {
   "cell_type": "markdown",
   "id": "44609914",
   "metadata": {},
   "source": [
    "# 학생 성적 예측 하기\n",
    "\n",
    "    1. 목표: 학생 성적 예측 모델 구현\n",
    "    2. 결과: 예측값 확인\n",
    "             학생의 성적에 영향을 미치는 주요 요인 식별\n",
    "             예측 모델을 통해 학생들의 학업 성취도 향상을 위한 인사이트 제공"
   ]
  },
  {
   "cell_type": "code",
   "execution_count": 1,
   "id": "8b00af33",
   "metadata": {
    "scrolled": true
   },
   "outputs": [
    {
     "name": "stderr",
     "output_type": "stream",
     "text": [
      "24/12/20 14:19:12 WARN NativeCodeLoader: Unable to load native-hadoop library for your platform... using builtin-java classes where applicable\n",
      "Using Spark's default log4j profile: org/apache/spark/log4j-defaults.properties\n",
      "Setting default log level to \"WARN\".\n",
      "To adjust logging level use sc.setLogLevel(newLevel). For SparkR, use setLogLevel(newLevel).\n"
     ]
    }
   ],
   "source": [
    "from pyspark.sql import SparkSession\n",
    "spark = SparkSession.builder.appName(\"project_students_prediction\").getOrCreate()"
   ]
  },
  {
   "cell_type": "markdown",
   "id": "7dea1528",
   "metadata": {},
   "source": [
    "# 데이터 가져오기\n",
    "\n",
    "\n",
    "## 데이터 설명\n",
    "    이 데이터는 두 개의 포르투갈 중등학교에서의 학생 성취도를 다루고 있습니다.  \n",
    "    데이터 속성에는 학생의 성적, 인구통계학적 특성, 사회적 특성, 그리고 학교 관련 특성이 포함되어 있습니다.  \n",
    "\n",
    "    1학기, 2학기, 최종 성적을 확인 할 수 있습니다.  \n",
    "    \n",
    "## 속성 설명\n",
    "    # Attributes for both student-mat.csv (Math course) and student-por.csv (Portuguese language course) datasets:\n",
    "    1 school - 학교 (binary: 'GP' - Gabriel Pereira or 'MS' - Mousinho da Silveira)\n",
    "    2 sex - 학생 성별 (binary: 'F' - female or 'M' - male)\n",
    "    3 age - 학생 나이 (numeric: from 15 to 22)\n",
    "    4 address - 학생의 거주지 (binary: 'U' - urban or 'R' - rural)\n",
    "    5 famsize - 가족 구성원 (binary: 'LE3' - less or equal to 3 or 'GT3' - greater than 3)\n",
    "    6 Pstatus - 부모 거주 여부 (binary: 'T' - living together or 'A' - apart)\n",
    "    7 Medu - 모의 교육 수준 (numeric: 0 - none, 1 - primary education (4th grade), 2 -“ 5th to 9th grade, 3 -“ secondary education or \n",
    "                             4 -“ higher education)\n",
    "    8 Fedu - 부 의 교육 수준 (numeric: 0 - none, 1 - primary education (4th grade), 2 -“ 5th to 9th grade, 3 -“ secondary education or \n",
    "                             4 -“ higher education)\n",
    "    9 Mjob - 모 의 직업 (nominal: 'teacher', 'health' care related, civil 'services' (e.g. administrative or police), 'at_home' or 'other')\n",
    "    10 Fjob - 부 의 직업 (nominal: 'teacher', 'health' care related, civil 'services' (e.g. administrative or police), 'at_home' or    \n",
    "                           'other')\n",
    "    11 reason - 학교 선택 이유 (nominal: close to 'home', school 'reputation', 'course' preference or 'other')\n",
    "    12 guardian - 학생의 보호자 (nominal: 'mother', 'father' or 'other')\n",
    "    13 traveltime - 등교 시간 (numeric: 1 - <15 min., 2 - 15 to 30 min., 3 - 30 min. to 1 hour, or 4 - >1 hour)\n",
    "    14 studytime - 주간 공부 시간 (numeric: 1 - <2 hours, 2 - 2 to 5 hours, 3 - 5 to 10 hours, or 4 - >10 hours)\n",
    "    15 failures - 과거 수업 실패 횟수 (numeric: n if 1<=n<3, else 4)\n",
    "    16 schoolsup - 추가 수업 여부 (binary: yes or no)\n",
    "    17 famsup - 가족의 교육적 지원 여부 (binary: yes or no)\n",
    "    18 paid - 수학 또는 포르투갈어 과목에 대한 추가 유료 수업 여부 (binary: yes or no)\n",
    "    19 activities - 추가 과외 여부 (binary: yes or no)\n",
    "    20 nursery - 보육원 경험 여부 (binary: yes or no)\n",
    "    21 higher - 고등교육 희망 여부 (binary: yes or no)\n",
    "    22 internet - 가정에서 인터넷 사용 가능 여부 (binary: yes or no)\n",
    "    23 romantic - 연애 여부 (binary: yes or no)\n",
    "    24 famrel - 가족과의 관계 (numeric: from 1 - very bad to 5 - excellent)\n",
    "    25 freetime - 방과 후 가족과 함께 보내는 빈도수 (numeric: from 1 - very low to 5 - very high)\n",
    "    26 goout - 친구들과 보내는 빈도수 (numeric: from 1 - very low to 5 - very high)\n",
    "    27 Dalc - 주간 알콜 소비수 (numeric: from 1 - very low to 5 - very high)\n",
    "    28 Walc - 주말 알콜 소비수 (numeric: from 1 - very low to 5 - very high)\n",
    "    29 health - 현재 건강 상태 (numeric: from 1 - very bad to 5 - very good)\n",
    "    30 absences - 학교 결석 수 (numeric: from 0 to 93)\n",
    "\n",
    "    #these grades are related with the course subject, Math or Portuguese:\n",
    "    31 G1 - 1학기 성적 (numeric: from 0 to 20)\n",
    "    31 G2 - 2학기 성적 (numeric: from 0 to 20)\n",
    "    32 G3 - 최종 성적 (numeric: from 0 to 20, output target)"
   ]
  },
  {
   "cell_type": "code",
   "execution_count": null,
   "id": "d24bb07d",
   "metadata": {},
   "outputs": [],
   "source": [
    "# 각 데이터 읽기"
   ]
  },
  {
   "cell_type": "code",
   "execution_count": 2,
   "id": "648342b8",
   "metadata": {
    "scrolled": true
   },
   "outputs": [
    {
     "name": "stderr",
     "output_type": "stream",
     "text": [
      "                                                                                \r"
     ]
    }
   ],
   "source": [
    "mat_df = spark.read.csv('data/student-mat.csv', inferSchema=True, header=True, sep=';')"
   ]
  },
  {
   "cell_type": "code",
   "execution_count": 3,
   "id": "e617bfbd",
   "metadata": {},
   "outputs": [],
   "source": [
    "por_df = spark.read.csv('data/student-por.csv', inferSchema=True, header=True, sep=';')"
   ]
  },
  {
   "cell_type": "code",
   "execution_count": null,
   "id": "c5d175fe",
   "metadata": {},
   "outputs": [],
   "source": [
    "# 수직 결합"
   ]
  },
  {
   "cell_type": "code",
   "execution_count": 4,
   "id": "25c61970",
   "metadata": {},
   "outputs": [],
   "source": [
    "df_com = mat_df.union(por_df)"
   ]
  },
  {
   "cell_type": "code",
   "execution_count": null,
   "id": "3b99f659",
   "metadata": {},
   "outputs": [],
   "source": [
    "# view"
   ]
  },
  {
   "cell_type": "code",
   "execution_count": 5,
   "id": "14a884d0",
   "metadata": {},
   "outputs": [
    {
     "name": "stderr",
     "output_type": "stream",
     "text": [
      "24/12/20 14:19:31 WARN package: Truncated the string representation of a plan since it was too large. This behavior can be adjusted by setting 'spark.sql.debug.maxToStringFields'.\n"
     ]
    }
   ],
   "source": [
    "df_com.createOrReplaceTempView(\"df_com\")"
   ]
  },
  {
   "cell_type": "code",
   "execution_count": 7,
   "id": "0c2206f2",
   "metadata": {
    "scrolled": true
   },
   "outputs": [
    {
     "name": "stdout",
     "output_type": "stream",
     "text": [
      "+------+---+---+-------+-------+-------+----+----+-------+--------+------+--------+----------+---------+--------+---------+------+----+----------+-------+------+--------+--------+------+--------+-----+----+----+------+--------+---+---+---+\n",
      "|school|sex|age|address|famsize|Pstatus|Medu|Fedu|   Mjob|    Fjob|reason|guardian|traveltime|studytime|failures|schoolsup|famsup|paid|activities|nursery|higher|internet|romantic|famrel|freetime|goout|Dalc|Walc|health|absences| G1| G2| G3|\n",
      "+------+---+---+-------+-------+-------+----+----+-------+--------+------+--------+----------+---------+--------+---------+------+----+----------+-------+------+--------+--------+------+--------+-----+----+----+------+--------+---+---+---+\n",
      "|    GP|  F| 18|      U|    GT3|      A|   4|   4|at_home| teacher|course|  mother|         2|        2|       0|      yes|    no|  no|        no|    yes|   yes|      no|      no|     4|       3|    4|   1|   1|     3|       6|  5|  6|  6|\n",
      "|    GP|  F| 17|      U|    GT3|      T|   1|   1|at_home|   other|course|  father|         1|        2|       0|       no|   yes|  no|        no|     no|   yes|     yes|      no|     5|       3|    3|   1|   1|     3|       4|  5|  5|  6|\n",
      "|    GP|  F| 15|      U|    LE3|      T|   1|   1|at_home|   other| other|  mother|         1|        2|       3|      yes|    no| yes|        no|    yes|   yes|     yes|      no|     4|       3|    2|   2|   3|     3|      10|  7|  8| 10|\n",
      "|    GP|  F| 15|      U|    GT3|      T|   4|   2| health|services|  home|  mother|         1|        3|       0|       no|   yes| yes|       yes|    yes|   yes|     yes|     yes|     3|       2|    2|   1|   1|     5|       2| 15| 14| 15|\n",
      "|    GP|  F| 16|      U|    GT3|      T|   3|   3|  other|   other|  home|  father|         1|        2|       0|       no|   yes| yes|        no|    yes|   yes|      no|      no|     4|       3|    2|   1|   2|     5|       4|  6| 10| 10|\n",
      "+------+---+---+-------+-------+-------+----+----+-------+--------+------+--------+----------+---------+--------+---------+------+----+----------+-------+------+--------+--------+------+--------+-----+----+----+------+--------+---+---+---+\n",
      "only showing top 5 rows\n",
      "\n"
     ]
    }
   ],
   "source": [
    "df_com.show(5)"
   ]
  },
  {
   "cell_type": "code",
   "execution_count": 7,
   "id": "57df31f1",
   "metadata": {
    "scrolled": false
   },
   "outputs": [
    {
     "name": "stdout",
     "output_type": "stream",
     "text": [
      "root\n",
      " |-- school: string (nullable = true)\n",
      " |-- sex: string (nullable = true)\n",
      " |-- age: integer (nullable = true)\n",
      " |-- address: string (nullable = true)\n",
      " |-- famsize: string (nullable = true)\n",
      " |-- Pstatus: string (nullable = true)\n",
      " |-- Medu: integer (nullable = true)\n",
      " |-- Fedu: integer (nullable = true)\n",
      " |-- Mjob: string (nullable = true)\n",
      " |-- Fjob: string (nullable = true)\n",
      " |-- reason: string (nullable = true)\n",
      " |-- guardian: string (nullable = true)\n",
      " |-- traveltime: integer (nullable = true)\n",
      " |-- studytime: integer (nullable = true)\n",
      " |-- failures: integer (nullable = true)\n",
      " |-- schoolsup: string (nullable = true)\n",
      " |-- famsup: string (nullable = true)\n",
      " |-- paid: string (nullable = true)\n",
      " |-- activities: string (nullable = true)\n",
      " |-- nursery: string (nullable = true)\n",
      " |-- higher: string (nullable = true)\n",
      " |-- internet: string (nullable = true)\n",
      " |-- romantic: string (nullable = true)\n",
      " |-- famrel: integer (nullable = true)\n",
      " |-- freetime: integer (nullable = true)\n",
      " |-- goout: integer (nullable = true)\n",
      " |-- Dalc: integer (nullable = true)\n",
      " |-- Walc: integer (nullable = true)\n",
      " |-- health: integer (nullable = true)\n",
      " |-- absences: integer (nullable = true)\n",
      " |-- G1: integer (nullable = true)\n",
      " |-- G2: integer (nullable = true)\n",
      " |-- G3: integer (nullable = true)\n",
      "\n"
     ]
    }
   ],
   "source": [
    "df_com.printSchema()"
   ]
  },
  {
   "cell_type": "code",
   "execution_count": null,
   "id": "a6e7bbc0",
   "metadata": {},
   "outputs": [],
   "source": []
  },
  {
   "cell_type": "code",
   "execution_count": 6,
   "id": "bc8d09cd",
   "metadata": {},
   "outputs": [],
   "source": [
    "# 필요 속성 불러오기\n",
    "from pyspark.sql.functions import col, count, when, isnan, mean, corr\n",
    "import pandas as pd\n",
    "import seaborn as sns\n",
    "import matplotlib.pyplot as plt"
   ]
  },
  {
   "cell_type": "markdown",
   "id": "b17d45a2",
   "metadata": {},
   "source": [
    "# 결측치 확인"
   ]
  },
  {
   "cell_type": "code",
   "execution_count": 11,
   "id": "9ed68ac8",
   "metadata": {},
   "outputs": [
    {
     "name": "stdout",
     "output_type": "stream",
     "text": [
      "+------+---+---+-------+-------+-------+----+----+----+----+------+--------+----------+---------+--------+---------+------+----+----------+-------+------+--------+--------+------+--------+-----+----+----+------+--------+---+---+---+\n",
      "|school|sex|age|address|famsize|Pstatus|Medu|Fedu|Mjob|Fjob|reason|guardian|traveltime|studytime|failures|schoolsup|famsup|paid|activities|nursery|higher|internet|romantic|famrel|freetime|goout|Dalc|Walc|health|absences| G1| G2| G3|\n",
      "+------+---+---+-------+-------+-------+----+----+----+----+------+--------+----------+---------+--------+---------+------+----+----------+-------+------+--------+--------+------+--------+-----+----+----+------+--------+---+---+---+\n",
      "|     0|  0|  0|      0|      0|      0|   0|   0|   0|   0|     0|       0|         0|        0|       0|        0|     0|   0|         0|      0|     0|       0|       0|     0|       0|    0|   0|   0|     0|       0|  0|  0|  0|\n",
      "+------+---+---+-------+-------+-------+----+----+----+----+------+--------+----------+---------+--------+---------+------+----+----------+-------+------+--------+--------+------+--------+-----+----+----+------+--------+---+---+---+\n",
      "\n"
     ]
    }
   ],
   "source": [
    "def count_nulls(c):\n",
    "    return count(when(col(c).isNull() | isnan(c), c)).alias(c)\n",
    "\n",
    "null_counts = df_com.select([count_nulls(c) for c in df_com.columns])\n",
    "\n",
    "null_counts.show()"
   ]
  },
  {
   "cell_type": "code",
   "execution_count": null,
   "id": "6fccfff3",
   "metadata": {},
   "outputs": [],
   "source": []
  },
  {
   "cell_type": "code",
   "execution_count": null,
   "id": "66978f69",
   "metadata": {},
   "outputs": [],
   "source": []
  },
  {
   "cell_type": "markdown",
   "id": "6627e4e1",
   "metadata": {},
   "source": [
    "# 데이터 분석\n",
    "    학생의 최종 성적이 여러가지 요인에 따라 영향을 받는지 분석.\n",
    "    \n",
    "    1. 컬럼 값 확인하기 - 컬럼 별 개수 확인\n",
    "    2. 1학기, 2학기, 최종 성적 간 상관 관계\n",
    "    3. \"교육적인 지원 부분\" 별 최종 성적 관계 - 추가 수업, 추가 과외, 가족의 교육 지원, 특정 과목 과외\n",
    "    4. \"부모 관련된 부분' 별 최종 성적 관계\n",
    "    5. \"그 외 요인'별 최종 성적 관계\n",
    "    6. 결석, 주소지와 최종 성적 관계"
   ]
  },
  {
   "cell_type": "markdown",
   "id": "53094389",
   "metadata": {},
   "source": [
    "## 1. 컬럼 값 확인하기"
   ]
  },
  {
   "cell_type": "code",
   "execution_count": 21,
   "id": "70f094c3",
   "metadata": {},
   "outputs": [
    {
     "name": "stdout",
     "output_type": "stream",
     "text": [
      "\n",
      "Value counts for column: school\n"
     ]
    },
    {
     "name": "stderr",
     "output_type": "stream",
     "text": [
      "                                                                                \r"
     ]
    },
    {
     "name": "stdout",
     "output_type": "stream",
     "text": [
      "+------+-----+\n",
      "|school|count|\n",
      "+------+-----+\n",
      "|GP    |772  |\n",
      "|MS    |272  |\n",
      "+------+-----+\n",
      "\n",
      "\n",
      "Value counts for column: sex\n"
     ]
    },
    {
     "name": "stderr",
     "output_type": "stream",
     "text": [
      "                                                                                \r"
     ]
    },
    {
     "name": "stdout",
     "output_type": "stream",
     "text": [
      "+---+-----+\n",
      "|sex|count|\n",
      "+---+-----+\n",
      "|F  |591  |\n",
      "|M  |453  |\n",
      "+---+-----+\n",
      "\n",
      "\n",
      "Value counts for column: age\n"
     ]
    },
    {
     "name": "stderr",
     "output_type": "stream",
     "text": [
      "                                                                                \r"
     ]
    },
    {
     "name": "stdout",
     "output_type": "stream",
     "text": [
      "+---+-----+\n",
      "|age|count|\n",
      "+---+-----+\n",
      "|16 |281  |\n",
      "|17 |277  |\n",
      "|18 |222  |\n",
      "|15 |194  |\n",
      "|19 |56   |\n",
      "|20 |9    |\n",
      "|21 |3    |\n",
      "|22 |2    |\n",
      "+---+-----+\n",
      "\n",
      "\n",
      "Value counts for column: address\n"
     ]
    },
    {
     "name": "stderr",
     "output_type": "stream",
     "text": [
      "                                                                                \r"
     ]
    },
    {
     "name": "stdout",
     "output_type": "stream",
     "text": [
      "+-------+-----+\n",
      "|address|count|\n",
      "+-------+-----+\n",
      "|U      |759  |\n",
      "|R      |285  |\n",
      "+-------+-----+\n",
      "\n",
      "\n",
      "Value counts for column: famsize\n"
     ]
    },
    {
     "name": "stderr",
     "output_type": "stream",
     "text": [
      "                                                                                \r"
     ]
    },
    {
     "name": "stdout",
     "output_type": "stream",
     "text": [
      "+-------+-----+\n",
      "|famsize|count|\n",
      "+-------+-----+\n",
      "|GT3    |738  |\n",
      "|LE3    |306  |\n",
      "+-------+-----+\n",
      "\n",
      "\n",
      "Value counts for column: Pstatus\n"
     ]
    },
    {
     "name": "stderr",
     "output_type": "stream",
     "text": [
      "                                                                                \r"
     ]
    },
    {
     "name": "stdout",
     "output_type": "stream",
     "text": [
      "+-------+-----+\n",
      "|Pstatus|count|\n",
      "+-------+-----+\n",
      "|T      |923  |\n",
      "|A      |121  |\n",
      "+-------+-----+\n",
      "\n",
      "\n",
      "Value counts for column: Medu\n"
     ]
    },
    {
     "name": "stderr",
     "output_type": "stream",
     "text": [
      "                                                                                \r"
     ]
    },
    {
     "name": "stdout",
     "output_type": "stream",
     "text": [
      "+----+-----+\n",
      "|Medu|count|\n",
      "+----+-----+\n",
      "|4   |306  |\n",
      "|2   |289  |\n",
      "|3   |238  |\n",
      "|1   |202  |\n",
      "|0   |9    |\n",
      "+----+-----+\n",
      "\n",
      "\n",
      "Value counts for column: Fedu\n"
     ]
    },
    {
     "name": "stderr",
     "output_type": "stream",
     "text": [
      "                                                                                \r"
     ]
    },
    {
     "name": "stdout",
     "output_type": "stream",
     "text": [
      "+----+-----+\n",
      "|Fedu|count|\n",
      "+----+-----+\n",
      "|2   |324  |\n",
      "|1   |256  |\n",
      "|3   |231  |\n",
      "|4   |224  |\n",
      "|0   |9    |\n",
      "+----+-----+\n",
      "\n",
      "\n",
      "Value counts for column: Mjob\n"
     ]
    },
    {
     "name": "stderr",
     "output_type": "stream",
     "text": [
      "                                                                                \r"
     ]
    },
    {
     "name": "stdout",
     "output_type": "stream",
     "text": [
      "+--------+-----+\n",
      "|Mjob    |count|\n",
      "+--------+-----+\n",
      "|other   |399  |\n",
      "|services|239  |\n",
      "|at_home |194  |\n",
      "|teacher |130  |\n",
      "|health  |82   |\n",
      "+--------+-----+\n",
      "\n",
      "\n",
      "Value counts for column: Fjob\n",
      "+--------+-----+\n",
      "|Fjob    |count|\n",
      "+--------+-----+\n",
      "|other   |584  |\n",
      "|services|292  |\n",
      "|teacher |65   |\n",
      "|at_home |62   |\n",
      "|health  |41   |\n",
      "+--------+-----+\n",
      "\n",
      "\n",
      "Value counts for column: reason\n",
      "+----------+-----+\n",
      "|reason    |count|\n",
      "+----------+-----+\n",
      "|course    |430  |\n",
      "|home      |258  |\n",
      "|reputation|248  |\n",
      "|other     |108  |\n",
      "+----------+-----+\n",
      "\n",
      "\n",
      "Value counts for column: guardian\n"
     ]
    },
    {
     "name": "stderr",
     "output_type": "stream",
     "text": [
      "                                                                                \r"
     ]
    },
    {
     "name": "stdout",
     "output_type": "stream",
     "text": [
      "+--------+-----+\n",
      "|guardian|count|\n",
      "+--------+-----+\n",
      "|mother  |728  |\n",
      "|father  |243  |\n",
      "|other   |73   |\n",
      "+--------+-----+\n",
      "\n",
      "\n",
      "Value counts for column: traveltime\n"
     ]
    },
    {
     "name": "stderr",
     "output_type": "stream",
     "text": [
      "                                                                                \r"
     ]
    },
    {
     "name": "stdout",
     "output_type": "stream",
     "text": [
      "+----------+-----+\n",
      "|traveltime|count|\n",
      "+----------+-----+\n",
      "|1         |623  |\n",
      "|2         |320  |\n",
      "|3         |77   |\n",
      "|4         |24   |\n",
      "+----------+-----+\n",
      "\n",
      "\n",
      "Value counts for column: studytime\n"
     ]
    },
    {
     "name": "stderr",
     "output_type": "stream",
     "text": [
      "                                                                                \r"
     ]
    },
    {
     "name": "stdout",
     "output_type": "stream",
     "text": [
      "+---------+-----+\n",
      "|studytime|count|\n",
      "+---------+-----+\n",
      "|2        |503  |\n",
      "|1        |317  |\n",
      "|3        |162  |\n",
      "|4        |62   |\n",
      "+---------+-----+\n",
      "\n",
      "\n",
      "Value counts for column: failures\n",
      "+--------+-----+\n",
      "|failures|count|\n",
      "+--------+-----+\n",
      "|0       |861  |\n",
      "|1       |120  |\n",
      "|2       |33   |\n",
      "|3       |30   |\n",
      "+--------+-----+\n",
      "\n",
      "\n",
      "Value counts for column: schoolsup\n"
     ]
    },
    {
     "name": "stderr",
     "output_type": "stream",
     "text": [
      "                                                                                \r"
     ]
    },
    {
     "name": "stdout",
     "output_type": "stream",
     "text": [
      "+---------+-----+\n",
      "|schoolsup|count|\n",
      "+---------+-----+\n",
      "|no       |925  |\n",
      "|yes      |119  |\n",
      "+---------+-----+\n",
      "\n",
      "\n",
      "Value counts for column: famsup\n"
     ]
    },
    {
     "name": "stderr",
     "output_type": "stream",
     "text": [
      "                                                                                \r"
     ]
    },
    {
     "name": "stdout",
     "output_type": "stream",
     "text": [
      "+------+-----+\n",
      "|famsup|count|\n",
      "+------+-----+\n",
      "|yes   |640  |\n",
      "|no    |404  |\n",
      "+------+-----+\n",
      "\n",
      "\n",
      "Value counts for column: paid\n",
      "+----+-----+\n",
      "|paid|count|\n",
      "+----+-----+\n",
      "|no  |824  |\n",
      "|yes |220  |\n",
      "+----+-----+\n",
      "\n",
      "\n",
      "Value counts for column: activities\n",
      "+----------+-----+\n",
      "|activities|count|\n",
      "+----------+-----+\n",
      "|no        |528  |\n",
      "|yes       |516  |\n",
      "+----------+-----+\n",
      "\n",
      "\n",
      "Value counts for column: nursery\n",
      "+-------+-----+\n",
      "|nursery|count|\n",
      "+-------+-----+\n",
      "|yes    |835  |\n",
      "|no     |209  |\n",
      "+-------+-----+\n",
      "\n",
      "\n",
      "Value counts for column: higher\n",
      "+------+-----+\n",
      "|higher|count|\n",
      "+------+-----+\n",
      "|yes   |955  |\n",
      "|no    |89   |\n",
      "+------+-----+\n",
      "\n",
      "\n",
      "Value counts for column: internet\n"
     ]
    },
    {
     "name": "stderr",
     "output_type": "stream",
     "text": [
      "                                                                                \r"
     ]
    },
    {
     "name": "stdout",
     "output_type": "stream",
     "text": [
      "+--------+-----+\n",
      "|internet|count|\n",
      "+--------+-----+\n",
      "|yes     |827  |\n",
      "|no      |217  |\n",
      "+--------+-----+\n",
      "\n",
      "\n",
      "Value counts for column: romantic\n"
     ]
    },
    {
     "name": "stderr",
     "output_type": "stream",
     "text": [
      "                                                                                \r"
     ]
    },
    {
     "name": "stdout",
     "output_type": "stream",
     "text": [
      "+--------+-----+\n",
      "|romantic|count|\n",
      "+--------+-----+\n",
      "|no      |673  |\n",
      "|yes     |371  |\n",
      "+--------+-----+\n",
      "\n",
      "\n",
      "Value counts for column: famrel\n",
      "+------+-----+\n",
      "|famrel|count|\n",
      "+------+-----+\n",
      "|4     |512  |\n",
      "|5     |286  |\n",
      "|3     |169  |\n",
      "|2     |47   |\n",
      "|1     |30   |\n",
      "+------+-----+\n",
      "\n",
      "\n",
      "Value counts for column: freetime\n",
      "+--------+-----+\n",
      "|freetime|count|\n",
      "+--------+-----+\n",
      "|3       |408  |\n",
      "|4       |293  |\n",
      "|2       |171  |\n",
      "|5       |108  |\n",
      "|1       |64   |\n",
      "+--------+-----+\n",
      "\n",
      "\n",
      "Value counts for column: goout\n"
     ]
    },
    {
     "name": "stderr",
     "output_type": "stream",
     "text": [
      "                                                                                \r"
     ]
    },
    {
     "name": "stdout",
     "output_type": "stream",
     "text": [
      "+-----+-----+\n",
      "|goout|count|\n",
      "+-----+-----+\n",
      "|3    |335  |\n",
      "|2    |248  |\n",
      "|4    |227  |\n",
      "|5    |163  |\n",
      "|1    |71   |\n",
      "+-----+-----+\n",
      "\n",
      "\n",
      "Value counts for column: Dalc\n"
     ]
    },
    {
     "name": "stderr",
     "output_type": "stream",
     "text": [
      "                                                                                \r"
     ]
    },
    {
     "name": "stdout",
     "output_type": "stream",
     "text": [
      "+----+-----+\n",
      "|Dalc|count|\n",
      "+----+-----+\n",
      "|1   |727  |\n",
      "|2   |196  |\n",
      "|3   |69   |\n",
      "|5   |26   |\n",
      "|4   |26   |\n",
      "+----+-----+\n",
      "\n",
      "\n",
      "Value counts for column: Walc\n"
     ]
    },
    {
     "name": "stderr",
     "output_type": "stream",
     "text": [
      "                                                                                \r"
     ]
    },
    {
     "name": "stdout",
     "output_type": "stream",
     "text": [
      "+----+-----+\n",
      "|Walc|count|\n",
      "+----+-----+\n",
      "|1   |398  |\n",
      "|2   |235  |\n",
      "|3   |200  |\n",
      "|4   |138  |\n",
      "|5   |73   |\n",
      "+----+-----+\n",
      "\n",
      "\n",
      "Value counts for column: health\n"
     ]
    },
    {
     "name": "stderr",
     "output_type": "stream",
     "text": [
      "                                                                                \r"
     ]
    },
    {
     "name": "stdout",
     "output_type": "stream",
     "text": [
      "+------+-----+\n",
      "|health|count|\n",
      "+------+-----+\n",
      "|5     |395  |\n",
      "|3     |215  |\n",
      "|4     |174  |\n",
      "|1     |137  |\n",
      "|2     |123  |\n",
      "+------+-----+\n",
      "\n",
      "\n",
      "Value counts for column: absences\n"
     ]
    },
    {
     "name": "stderr",
     "output_type": "stream",
     "text": [
      "                                                                                \r"
     ]
    },
    {
     "name": "stdout",
     "output_type": "stream",
     "text": [
      "+--------+-----+\n",
      "|absences|count|\n",
      "+--------+-----+\n",
      "|0       |359  |\n",
      "|2       |175  |\n",
      "|4       |146  |\n",
      "|6       |80   |\n",
      "|8       |64   |\n",
      "|10      |38   |\n",
      "|12      |24   |\n",
      "|14      |20   |\n",
      "|5       |17   |\n",
      "|16      |17   |\n",
      "|1       |15   |\n",
      "|3       |15   |\n",
      "|7       |10   |\n",
      "|9       |10   |\n",
      "|11      |8    |\n",
      "|18      |8    |\n",
      "|22      |5    |\n",
      "|15      |5    |\n",
      "|13      |4    |\n",
      "|20      |4    |\n",
      "+--------+-----+\n",
      "only showing top 20 rows\n",
      "\n",
      "\n",
      "Value counts for column: G1\n",
      "+---+-----+\n",
      "|G1 |count|\n",
      "+---+-----+\n",
      "|10 |146  |\n",
      "|11 |130  |\n",
      "|12 |117  |\n",
      "|13 |105  |\n",
      "|14 |101  |\n",
      "|9  |96   |\n",
      "|8  |83   |\n",
      "|7  |70   |\n",
      "|15 |59   |\n",
      "|16 |44   |\n",
      "|6  |33   |\n",
      "|17 |24   |\n",
      "|18 |15   |\n",
      "|5  |12   |\n",
      "|19 |4    |\n",
      "|4  |3    |\n",
      "|3  |1    |\n",
      "|0  |1    |\n",
      "+---+-----+\n",
      "\n",
      "\n",
      "Value counts for column: G2\n",
      "+---+-----+\n",
      "|G2 |count|\n",
      "+---+-----+\n",
      "|11 |138  |\n",
      "|10 |129  |\n",
      "|12 |127  |\n",
      "|9  |122  |\n",
      "|13 |117  |\n",
      "|14 |77   |\n",
      "|8  |72   |\n",
      "|15 |72   |\n",
      "|16 |38   |\n",
      "|7  |37   |\n",
      "|18 |26   |\n",
      "|17 |25   |\n",
      "|6  |21   |\n",
      "|0  |20   |\n",
      "|5  |18   |\n",
      "|19 |4    |\n",
      "|4  |1    |\n",
      "+---+-----+\n",
      "\n",
      "\n",
      "Value counts for column: G3\n",
      "+---+-----+\n",
      "|G3 |count|\n",
      "+---+-----+\n",
      "|10 |153  |\n",
      "|11 |151  |\n",
      "|13 |113  |\n",
      "|12 |103  |\n",
      "|14 |90   |\n",
      "|15 |82   |\n",
      "|8  |67   |\n",
      "|9  |63   |\n",
      "|0  |53   |\n",
      "|16 |52   |\n",
      "|17 |35   |\n",
      "|18 |27   |\n",
      "|7  |19   |\n",
      "|6  |18   |\n",
      "|5  |8    |\n",
      "|19 |7    |\n",
      "|1  |1    |\n",
      "|4  |1    |\n",
      "|20 |1    |\n",
      "+---+-----+\n",
      "\n"
     ]
    }
   ],
   "source": [
    "# 모든 컬럼에 대해 값의 개수 계산\n",
    "for column in df_com.columns:\n",
    "    print(f\"Value counts for column: {column}\")\n",
    "    \n",
    "    # 각 컬럼의 값 개수를 계산하고 정렬\n",
    "    value_counts = df_com.groupBy(column).agg(count(\"*\").alias(\"count\")) \\\n",
    "                     .orderBy(col(\"count\").desc())\n",
    "    \n",
    "    # 결과 출력\n",
    "    value_counts.show(truncate=False)"
   ]
  },
  {
   "cell_type": "code",
   "execution_count": 24,
   "id": "094f4839",
   "metadata": {
    "collapsed": true
   },
   "outputs": [
    {
     "name": "stdout",
     "output_type": "stream",
     "text": [
      "Collecting seaborn\n",
      "  Downloading seaborn-0.13.2-py3-none-any.whl.metadata (5.4 kB)\n",
      "Requirement already satisfied: numpy!=1.24.0,>=1.20 in /home/ubuntu/anaconda3/envs/spark_start/lib/python3.8/site-packages (from seaborn) (1.24.4)\n",
      "Requirement already satisfied: pandas>=1.2 in /home/ubuntu/anaconda3/envs/spark_start/lib/python3.8/site-packages (from seaborn) (2.0.3)\n",
      "Requirement already satisfied: matplotlib!=3.6.1,>=3.4 in /home/ubuntu/anaconda3/envs/spark_start/lib/python3.8/site-packages (from seaborn) (3.7.5)\n",
      "Requirement already satisfied: contourpy>=1.0.1 in /home/ubuntu/anaconda3/envs/spark_start/lib/python3.8/site-packages (from matplotlib!=3.6.1,>=3.4->seaborn) (1.1.1)\n",
      "Requirement already satisfied: cycler>=0.10 in /home/ubuntu/anaconda3/envs/spark_start/lib/python3.8/site-packages (from matplotlib!=3.6.1,>=3.4->seaborn) (0.12.1)\n",
      "Requirement already satisfied: fonttools>=4.22.0 in /home/ubuntu/anaconda3/envs/spark_start/lib/python3.8/site-packages (from matplotlib!=3.6.1,>=3.4->seaborn) (4.55.2)\n",
      "Requirement already satisfied: kiwisolver>=1.0.1 in /home/ubuntu/anaconda3/envs/spark_start/lib/python3.8/site-packages (from matplotlib!=3.6.1,>=3.4->seaborn) (1.4.7)\n",
      "Requirement already satisfied: packaging>=20.0 in /home/ubuntu/anaconda3/envs/spark_start/lib/python3.8/site-packages (from matplotlib!=3.6.1,>=3.4->seaborn) (24.2)\n",
      "Requirement already satisfied: pillow>=6.2.0 in /home/ubuntu/anaconda3/envs/spark_start/lib/python3.8/site-packages (from matplotlib!=3.6.1,>=3.4->seaborn) (10.4.0)\n",
      "Requirement already satisfied: pyparsing>=2.3.1 in /home/ubuntu/anaconda3/envs/spark_start/lib/python3.8/site-packages (from matplotlib!=3.6.1,>=3.4->seaborn) (3.1.4)\n",
      "Requirement already satisfied: python-dateutil>=2.7 in /home/ubuntu/anaconda3/envs/spark_start/lib/python3.8/site-packages (from matplotlib!=3.6.1,>=3.4->seaborn) (2.9.0.post0)\n",
      "Requirement already satisfied: importlib-resources>=3.2.0 in /home/ubuntu/anaconda3/envs/spark_start/lib/python3.8/site-packages (from matplotlib!=3.6.1,>=3.4->seaborn) (6.4.5)\n",
      "Requirement already satisfied: pytz>=2020.1 in /home/ubuntu/anaconda3/envs/spark_start/lib/python3.8/site-packages (from pandas>=1.2->seaborn) (2024.2)\n",
      "Requirement already satisfied: tzdata>=2022.1 in /home/ubuntu/anaconda3/envs/spark_start/lib/python3.8/site-packages (from pandas>=1.2->seaborn) (2024.2)\n",
      "Requirement already satisfied: zipp>=3.1.0 in /home/ubuntu/anaconda3/envs/spark_start/lib/python3.8/site-packages (from importlib-resources>=3.2.0->matplotlib!=3.6.1,>=3.4->seaborn) (3.20.2)\n",
      "Requirement already satisfied: six>=1.5 in /home/ubuntu/anaconda3/envs/spark_start/lib/python3.8/site-packages (from python-dateutil>=2.7->matplotlib!=3.6.1,>=3.4->seaborn) (1.16.0)\n",
      "Downloading seaborn-0.13.2-py3-none-any.whl (294 kB)\n",
      "Installing collected packages: seaborn\n",
      "Successfully installed seaborn-0.13.2\n",
      "Note: you may need to restart the kernel to use updated packages.\n"
     ]
    }
   ],
   "source": [
    "pip install seaborn"
   ]
  },
  {
   "cell_type": "markdown",
   "id": "c644006c",
   "metadata": {},
   "source": [
    "## 2. 1학기, 2학기, 최종 성적 간 관계\n",
    "    G1: 1학기 성적\n",
    "    G2: 2학기 성적\n",
    "    G3: 최종 성적\n",
    "    \n",
    "    1학기 성적 부터 최종 성적 까지의 평균 점수는 11점대로, 중간 점수에 위치하고 있음.\n",
    "    \n",
    "    데이터의 포인트들이 대각선 방향으로 밀집되어 있어 강한 선형관계를 보여줌.\n",
    "    특히 중간 범위(10-15점)에서 많은 데이터가 집중되어 있는 것으로 보아, 대부분의 학생들이 중간 점수 대를 받은 것으로 예측됨.\n",
    "    최종 성적(G3) 부분에서 그래프 하단부에서 일부 특이점들이 있음. 이것은 과목 낙제 또는 성적 불일치로 생각됨."
   ]
  },
  {
   "cell_type": "code",
   "execution_count": 113,
   "id": "a04cb522",
   "metadata": {},
   "outputs": [
    {
     "name": "stdout",
     "output_type": "stream",
     "text": [
      "+-----------------+------------------+------------------+\n",
      "|           G1_avg|            G2_avg|            G3_avg|\n",
      "+-----------------+------------------+------------------+\n",
      "|11.21360153256705|11.246168582375478|11.341954022988507|\n",
      "+-----------------+------------------+------------------+\n",
      "\n"
     ]
    }
   ],
   "source": [
    "# 평균 점수\n",
    "\n",
    "grade_avg = df_com.select([mean(col(c)).alias(f\"{c}_avg\") for c in ['G1', 'G2', 'G3']])\n",
    "grade_avg.show()"
   ]
  },
  {
   "cell_type": "code",
   "execution_count": 91,
   "id": "7c6df22e",
   "metadata": {},
   "outputs": [
    {
     "name": "stderr",
     "output_type": "stream",
     "text": [
      "/tmp/ipykernel_2945/3326565905.py:9: UserWarning: Matplotlib is currently using module://matplotlib_inline.backend_inline, which is a non-GUI backend, so cannot show the figure.\n",
      "  fig.show()\n"
     ]
    },
    {
     "data": {
      "image/png": "[encoded data removed]",
      "text/plain": [
       "<Figure size 1040x240 with 3 Axes>"
      ]
     },
     "metadata": {},
     "output_type": "display_data"
    }
   ],
   "source": [
    "pandas_df = df_com.toPandas()\n",
    "\n",
    "fig, ax =plt.subplots(1,3,figsize=(13,3), dpi=80, facecolor='w', edgecolor='k')\n",
    "sns.scatterplot(data=pandas_df, x=\"G1\", y=\"G3\",ax=ax[0])\n",
    "sns.scatterplot(data=pandas_df, x=\"G2\", y=\"G3\",ax=ax[1])\n",
    "sns.scatterplot(data=pandas_df, x=\"G1\", y=\"G2\",ax=ax[2])\n",
    "sns.cubehelix_palette(start=.5, rot=-.5, as_cmap=True)\n",
    "fig.suptitle('Relationship Between Different Grade with each other', fontsize=16)\n",
    "fig.show()"
   ]
  },
  {
   "cell_type": "code",
   "execution_count": null,
   "id": "795d6dbc",
   "metadata": {},
   "outputs": [],
   "source": []
  },
  {
   "cell_type": "markdown",
   "id": "6f778f6e",
   "metadata": {},
   "source": [
    "## 3. '교육적 지원' 과 최종 성적의 관계"
   ]
  },
  {
   "cell_type": "markdown",
   "id": "765216b6",
   "metadata": {},
   "source": [
    "### 추가 수업 - 최종 성적\n",
    "    schoolsup: 추가 수업 여부 (yes or no)\n",
    "    \n",
    "    'yes'(지원 있음)와 'no'(지원 없음) 그룹 모두 중앙값이 약 11-12점 정도로 비슷한 수준을 보임.\n",
    "     학교 지원 여부에 따른 중앙값의 차이는 크지 않고, 오히려 지원을 받지 않는 학생들의 성적 분포가 더 넓게 나타남.\n",
    "     지원을 받는 학생들의 성적의 편차가 더 적으며, 지원을 받지 않는 학생들은 더 다양한 성적 분포를 나타냄.\n",
    "    \n",
    "### 추가 과외 - 최종 성적\n",
    "    activites: 추가 과외 활동 (yes or no)\n",
    "    \n",
    "    추가 과외 참여(\"yes\")와 미참여(\"no\") 그룹 모두 중앙값이 약 11-12점 정도로 비슷한 수준을 보이며, 두 그룹의 박스 크기도 유사함.\n",
    "    활동 참여 여부에 따른 최종 성적의 분포는 거의 차이가 없어 보임. \n",
    "    이는 해당 활동이 학생들의 최종 성적에 큰 영향을 미치지 않았을 수 있음.\n",
    "    \n",
    "### 가족의 교육적 지원 - 최종 성적\n",
    "    famsup: 가족의 교육적 지원 (yes or no)\n",
    "    \n",
    "    박스의 크기와 형태가 매우 유사해, 가족 지원 여부에 따른 성적 분포의 차이가 크지 않아 보임.\n",
    "    가족의 교육적 지원 여부가 학생들의 최종 성적에 큰 영향을 미치지 않는 것으로 해석됨.\n",
    "    \n",
    "### 수학, 포르투갈어 과외 - 최종 성적\n",
    "    paid: 수학, 포르투갈어 추가 과외 (yes or no)\n",
    "    \n",
    "    두 그룹 간의 성적 분포는 매우 유사한 패턴을 보이며, 유료 수업 수강 여부가 최종 성적에 큰 영향을 미치지 않은 것으로 보임.\n",
    "    오히려 유료 수업을 듣지 않은 학생들의 중앙값이 약간 더 높게 나타남."
   ]
  },
  {
   "cell_type": "code",
   "execution_count": 99,
   "id": "4143f199",
   "metadata": {},
   "outputs": [
    {
     "data": {
      "image/png": "[encoded data removed]",
      "text/plain": [
       "<Figure size 800x600 with 4 Axes>"
      ]
     },
     "metadata": {},
     "output_type": "display_data"
    }
   ],
   "source": [
    "# 전체 그림의 크기 설정\n",
    "plt.figure(figsize=(8, 6))\n",
    "\n",
    "# 추가 수업 - 최종 성적\n",
    "plt.subplot(2, 2, 1)\n",
    "sns.boxplot(data=pandas_df, x=\"schoolsup\", y=\"G3\")\n",
    "plt.title('Distribution by School Support')\n",
    "plt.xlabel('School Support')\n",
    "plt.ylabel('Final Grade (G3)')\n",
    "\n",
    "# 추가 과외 - 최종 성적\n",
    "plt.subplot(2, 2, 2)\n",
    "sns.boxplot(data=pandas_df, x=\"activities\", y=\"G3\")\n",
    "plt.title('Distribution by Activities')\n",
    "plt.xlabel('Activities')\n",
    "plt.ylabel('Final Grade (G3)')\n",
    "\n",
    "# 가족의 교육적 지원 - 최종 성적\n",
    "plt.subplot(2, 2, 3)\n",
    "sns.boxplot(data=pandas_df, x=\"famsup\", y=\"G3\")\n",
    "plt.title('Distribution by Family Support')\n",
    "plt.xlabel('Family Support')\n",
    "plt.ylabel('Final Grade (G3)')\n",
    "\n",
    "# 수학,포르투갈어 과외 - 최종 성적\n",
    "plt.subplot(2, 2, 4)\n",
    "sns.boxplot(data=pandas_df, x=\"paid\", y=\"G3\")\n",
    "plt.title('Distribution by Paid Classes')\n",
    "plt.xlabel('Paid Classes')\n",
    "plt.ylabel('Final Grade (G3)')\n",
    "\n",
    "# 서브플롯 간 간격 조정\n",
    "plt.subplots_adjust(wspace=0.5, hspace=0.5)\n",
    "\n",
    "# 그래프 표시\n",
    "plt.show()"
   ]
  },
  {
   "cell_type": "markdown",
   "id": "78a20f0f",
   "metadata": {},
   "source": [
    "## 4. '부모 관련' 과 최종 성적의 관계"
   ]
  },
  {
   "cell_type": "markdown",
   "id": "4e1e0dca",
   "metadata": {},
   "source": [
    "### 부모 직업 - 최종 성적 \n",
    "    Mjob & Fjob: 부모의 직업 (teacher, health, services-administrative or police, at_home, other)\n",
    "    \n",
    "    어머니의 직업이 건강 관련의 중앙값이 가장 높고, 성적 분포도 비교적 고름. 그 다음으로 기타 직군이 높은 중앙값을 나타냄.  \n",
    "                    서비스 직군의 경우 성적 편차가 매우 크며 특이값도 나타남.  \n",
    "    아버지의 직업이 교사 직군이 가장 높은 중앙값과 상위 성적 분포를 보임.  \n",
    "                    다른 직군들은 차이가 없어 보임.  \n",
    "    \n",
    "    전반적으로 어머니의 직업에 따른 성적 차이가 아버지 직업에 따른 성적 차이보다 두드러지게 나타남.\n",
    "\n",
    "\n",
    "### 부모 교육 수준 - 최종 성적\n",
    "    Medu & Fedu: 부모의 교육 수준 (none, 4th, 5~9th, secondary,'higher)\n",
    "    \n",
    "    어머니의 교육 수준이 높아질 수록 학생들의 평균 성적이 점진적으로 상승하는 경향을 보임.\n",
    "                   특히 'higher' 구간에 학생 성적 중앙값이 가장 높고, 성적 분포도 상대적으로 높은 구간에 집중되어 있음.\n",
    "    아버지의 교육 수준이 높아질 수록 자녀의 성적이 전반적으로 향상 됨. 이는 어머니의 경우와 유사함.\n",
    "                  'higher' 구간에 학생들의 성적 분포가 가장 높은 중앙값을 나타냄.\n",
    "                  \n",
    "    부모 모두 교육 수준이 높을수록 자녀의 학업 성취도가 높아지는 경향을 확인함."
   ]
  },
  {
   "cell_type": "code",
   "execution_count": 101,
   "id": "ddaece04",
   "metadata": {},
   "outputs": [
    {
     "name": "stderr",
     "output_type": "stream",
     "text": [
      "/tmp/ipykernel_2945/121824364.py:6: UserWarning: FixedFormatter should only be used together with FixedLocator\n",
      "  ax[0, 0].set_xticklabels(('teacher', 'health', 'services', 'at_home', 'other'), rotation='vertical')\n",
      "/tmp/ipykernel_2945/121824364.py:12: UserWarning: FixedFormatter should only be used together with FixedLocator\n",
      "  ax[0, 1].set_xticklabels(('teacher', 'health', 'services', 'at_home', 'other'), rotation='vertical')\n",
      "/tmp/ipykernel_2945/121824364.py:18: UserWarning: FixedFormatter should only be used together with FixedLocator\n",
      "  ax[1, 0].set_xticklabels(('none', '4th', '5~9th', 'secondary', 'higher'), rotation='vertical')\n",
      "/tmp/ipykernel_2945/121824364.py:24: UserWarning: FixedFormatter should only be used together with FixedLocator\n",
      "  ax[1, 1].set_xticklabels(('none', '4th', '5~9th', 'secondary', 'higher'), rotation='vertical')\n"
     ]
    },
    {
     "data": {
      "image/png": "[encoded data removed]",
      "text/plain": [
       "<Figure size 960x560 with 4 Axes>"
      ]
     },
     "metadata": {},
     "output_type": "display_data"
    }
   ],
   "source": [
    "# 전체 그림의 크기 설정\n",
    "fig, ax = plt.subplots(2, 2, figsize=(12, 7), dpi=80, facecolor='w', edgecolor='k')\n",
    "\n",
    "# 어머니 직업\n",
    "sns.boxplot(data=pandas_df, x=\"Mjob\", y=\"G3\", ax=ax[0, 0]).set_title('Mother Job Level')\n",
    "ax[0, 0].set_xticklabels(('teacher', 'health', 'services', 'at_home', 'other'), rotation='vertical')\n",
    "ax[0, 0].set_xlabel('Mother Job')\n",
    "ax[0, 0].set_ylabel('Final Grades')\n",
    "\n",
    "# 아버지 직업\n",
    "sns.boxplot(data=pandas_df, x=\"Fjob\", y=\"G3\", ax=ax[0, 1]).set_title('Father Job Level')\n",
    "ax[0, 1].set_xticklabels(('teacher', 'health', 'services', 'at_home', 'other'), rotation='vertical')\n",
    "ax[0, 1].set_xlabel('Father Job')\n",
    "ax[0, 1].set_ylabel('Final Grades')\n",
    "\n",
    "# 어머니 교육 수준\n",
    "sns.boxplot(data=pandas_df, x=\"Medu\", y=\"G3\", ax=ax[1, 0]).set_title('Mother Education Level')\n",
    "ax[1, 0].set_xticklabels(('none', '4th', '5~9th', 'secondary', 'higher'), rotation='vertical')\n",
    "ax[1, 0].set_xlabel('Mother Education')\n",
    "ax[1, 0].set_ylabel('Final Grades')\n",
    "\n",
    "# 아버지 교육 수준\n",
    "sns.boxplot(data=pandas_df, x=\"Fedu\", y=\"G3\", ax=ax[1, 1]).set_title('Father Education Level')\n",
    "ax[1, 1].set_xticklabels(('none', '4th', '5~9th', 'secondary', 'higher'), rotation='vertical')\n",
    "ax[1, 1].set_xlabel('Father Education')\n",
    "ax[1, 1].set_ylabel('Final Grades')\n",
    "\n",
    "plt.tight_layout()\n",
    "plt.show()"
   ]
  },
  {
   "cell_type": "markdown",
   "id": "73341fe8",
   "metadata": {},
   "source": [
    "## 5. '그 외 요인' 과 최종 성적의 관계\n",
    "    studytime - 주간 공부 시간 (1: 2시간 이하, 2: 2~5시간, 3: 5~10시간, 4: 10 hours 이상)\n",
    "    traveltime - 등교 시간 (1: 15분 이하, 2: 15~30분, 3: 30분~1시간, 4: 1 hour이상)\n",
    "    health - 현재 건강 상태 (1:매우 나쁨, 2: 나쁨, 3: 보통, 4: 좋음. 5: 아주 좋음)\n",
    "    failures - 과거 수업 실패 횟수 (0번, 1번, 2번, 4번)\n",
    "    \n",
    "    \n",
    "    평균 주간 공부시간은 2~3시간 정도이며, 등교 시간은 평균 15분~20분으로 나타남.\n",
    "    학생들의 평균 건강상태는 보통이고, 과거 수업에서 실패 했던 평균 횟수는 0~1번 임.\n",
    "    \n",
    "    \n",
    "    주간 공부 시간이 2시간 이하인 경우, 0~13점 대의 점수를 가지고 있으며,\n",
    "                     5시간 ~ 10시간 이상 공부한 학생들은 15~20점의 고득점을 받은 것으로 나타남.\n",
    "    \n",
    "    등교 시간의 경우, 1시간 이상 걸리는 학생들의 점수는 7점~14점.\n",
    "                      15분 이하로 가까운 거리의 학생들은 15점~20점에 분포되어 있음.\n",
    "    \n",
    "    건강 상태가 보통인 경우 중간 점수 대인 10점~13점에 가장 많으나,\n",
    "                가장 나쁜 학생들과 가장 좋은 학생들은 상위권인 14점~17점에서 나타남.\n",
    "             \n",
    "    과거 실패 경험이 없는 학생들은 중간 점수대에서 고득점 (10~20점)에 있고,\n",
    "              경험이 한 번이라도 있는 학생들은 0점~10점에 가장 많이 나타남."
   ]
  },
  {
   "cell_type": "code",
   "execution_count": 125,
   "id": "7683e0c1",
   "metadata": {},
   "outputs": [
    {
     "name": "stdout",
     "output_type": "stream",
     "text": [
      "+------------------+------------------+-----------------+-------------------+\n",
      "|     studytime_avg|    traveltime_avg|       health_avg|       failures_avg|\n",
      "+------------------+------------------+-----------------+-------------------+\n",
      "|1.9703065134099618|1.5229885057471264|3.543103448275862|0.26436781609195403|\n",
      "+------------------+------------------+-----------------+-------------------+\n",
      "\n"
     ]
    }
   ],
   "source": [
    "# 평균 계산\n",
    "\n",
    "grade_avg2 = df_com.select([mean(col(c)).alias(f\"{c}_avg\") for c in ['studytime', 'traveltime', 'health', 'failures']])\n",
    "grade_avg2.show()"
   ]
  },
  {
   "cell_type": "code",
   "execution_count": 82,
   "id": "4c453a47",
   "metadata": {},
   "outputs": [
    {
     "data": {
      "image/png": "[encoded data removed]",
      "text/plain": [
       "<Figure size 900x700 with 4 Axes>"
      ]
     },
     "metadata": {},
     "output_type": "display_data"
    }
   ],
   "source": [
    "fig, axes = plt.subplots(2, 2, figsize=(9, 7))\n",
    "\n",
    "# 공부 시간\n",
    "sns.histplot(\n",
    "    pandas_df, x=\"G3\", hue=\"studytime\", element=\"step\",\n",
    "    stat=\"density\", common_norm=False, bins=6,\n",
    "    palette=\"deep\", ax=axes[0, 0]\n",
    ")\n",
    "axes[0, 0].set_title(\"Distribution by studytime\")\n",
    "\n",
    "# 이동 시간 \n",
    "sns.histplot(\n",
    "    pandas_df, x=\"G3\", hue=\"traveltime\", element=\"step\",\n",
    "    stat=\"density\", common_norm=False, bins=6,\n",
    "    palette=\"deep\", ax=axes[0, 1]\n",
    ")\n",
    "axes[0, 1].set_title(\"Distribution by traveltime\")\n",
    "\n",
    "# 건강\n",
    "sns.histplot(\n",
    "    pandas_df, x=\"G3\", hue=\"health\", element=\"step\",\n",
    "    stat=\"density\", common_norm=False, bins=6,\n",
    "    palette=\"deep\", ax=axes[1, 0]\n",
    ")\n",
    "axes[1, 0].set_title(\"Distribution by health\")\n",
    "\n",
    "# 수업 실패\n",
    "sns.histplot(\n",
    "    pandas_df, x=\"G3\", hue=\"failures\", element=\"step\",\n",
    "    stat=\"density\", common_norm=False, bins=6,\n",
    "    palette=\"deep\", ax=axes[1, 1]\n",
    ")\n",
    "axes[1, 1].set_title(\"Distribution by failures\")\n",
    "\n",
    "plt.tight_layout()\n",
    "plt.show()"
   ]
  },
  {
   "cell_type": "markdown",
   "id": "585a8a08",
   "metadata": {},
   "source": [
    "## 6. 결석 수, 주소지와 최종 성적의 관계\n",
    "    absences: 결석 수 (0번~93번)\n",
    "    address: 주소지 (U - 도시 , R - 시골)\n",
    "    \n",
    "    평균 결석 수는 4일\n",
    "    \n",
    "    0~10일 결석은 대부분의 시골 거주 학생들이며, 20~60일의 결석을 한 학생들은 도시 학생들이 많이 분포되어 있음.\n",
    "    60일 이상의 많은 결석을 한 학생들은 시골 거주만 나타남.\n",
    "    \n",
    "    최종 성적의 고득점(15~20점) 보유한 학생들은 도시, 시골 거주가 고르게 분포되어 있으나, 시골 거주가 더 많아 보임.\n",
    "    고득점 학생들의 결석 수의 경우 도시 거주 학생들이 시골 거주 보다 많은 결석을 함.\n",
    "    \n",
    "    저득점(1~5점) 보유한 학생은 시골 학생들이 더 많은 것으로 나타남.\n",
    "   "
   ]
  },
  {
   "cell_type": "code",
   "execution_count": 126,
   "id": "45325533",
   "metadata": {},
   "outputs": [
    {
     "name": "stdout",
     "output_type": "stream",
     "text": [
      "+-----------------+------------------+\n",
      "|     absences_avg|            G3_avg|\n",
      "+-----------------+------------------+\n",
      "|4.434865900383142|11.341954022988507|\n",
      "+-----------------+------------------+\n",
      "\n"
     ]
    }
   ],
   "source": [
    "# 평균 계산\n",
    "\n",
    "grade_avg3 = df_com.select([mean(col(c)).alias(f\"{c}_avg\") for c in ['absences', 'G3']])\n",
    "grade_avg3.show()"
   ]
  },
  {
   "cell_type": "code",
   "execution_count": 108,
   "id": "12dc4321",
   "metadata": {},
   "outputs": [
    {
     "data": {
      "text/plain": [
       "<Axes: xlabel='absences', ylabel='G3'>"
      ]
     },
     "execution_count": 108,
     "metadata": {},
     "output_type": "execute_result"
    },
    {
     "data": {
      "image/png": "[encoded data removed]",
      "text/plain": [
       "<Figure size 400x300 with 1 Axes>"
      ]
     },
     "metadata": {},
     "output_type": "display_data"
    }
   ],
   "source": [
    "plt.figure(figsize=(4, 3))\n",
    "\n",
    "sns.histplot(\n",
    "    pandas_df,x=\"absences\", y=\"G3\", hue=\"address\", legend=True,bins=10\n",
    ")"
   ]
  },
  {
   "cell_type": "code",
   "execution_count": null,
   "id": "66c5ba97",
   "metadata": {},
   "outputs": [],
   "source": []
  },
  {
   "cell_type": "code",
   "execution_count": null,
   "id": "7aa42a26",
   "metadata": {},
   "outputs": [],
   "source": []
  },
  {
   "cell_type": "code",
   "execution_count": null,
   "id": "38f42b3e",
   "metadata": {},
   "outputs": [],
   "source": []
  },
  {
   "cell_type": "markdown",
   "id": "20b00d60",
   "metadata": {},
   "source": [
    "# Regression Model\n",
    "\n",
    "    학생의 최종 성적(G3)와 관련이 있어보이는 항목들만 추출 하여 회귀 모델 구현.\n",
    "    \n",
    "    features selection - 부모의 교육 수준 및 직업\n",
    "                       - 주간 공부 시간 및 등교 시간\n",
    "                       - 과거 실패 경험\n",
    "                       - 결석 수\n",
    "                       - 주소지와 추가 수업 \n",
    "     "
   ]
  },
  {
   "cell_type": "code",
   "execution_count": 7,
   "id": "25215d4c",
   "metadata": {},
   "outputs": [],
   "source": [
    "from pyspark.ml.feature import VectorAssembler, StringIndexer, OneHotEncoder\n",
    "from pyspark.ml.regression import LinearRegression\n",
    "from pyspark.ml import Pipeline\n",
    "from pyspark.ml.evaluation import RegressionEvaluator"
   ]
  },
  {
   "cell_type": "code",
   "execution_count": null,
   "id": "0fd43a0f",
   "metadata": {},
   "outputs": [],
   "source": [
    "# encoding"
   ]
  },
  {
   "cell_type": "markdown",
   "id": "df0a6d07",
   "metadata": {},
   "source": [
    "- Medu - 모 의 교육수준 ( 0 - none / 1 - primary education (4th grade) / 2 - 5~9th grade / 3  - secondary education / 4 - higher education)\n",
    "- Fedu - 부 의 교육수준 ( 0 - none / 1 - primary education (4th grade) / 2 - 5~9th grade / 3  - secondary education / 4 - higher education)\n",
    "- Mjob - 모 의 직업 (teacher - 0 / 'health'related - 1 / civil 'services' (e.g. administrative or police) - 2 /'at_home' - 4 / 'other' - 5)\n",
    "- Fjob - 부 의 직업 (teacher - 0 / 'health'related - 1 / civil 'services' (e.g. administrative or police) - 2 /'at_home' - 4 / 'other' - 5)\n",
    "- traveltime - 등교 시간 ( 15 min 미만 - 1 / 15 ~ 30 min - 2 / 30 min ~ 1 hour - 3 / 1 hour 이상 - 4)\n",
    "- studytime - 주간 공부 시간 (2 hours 미만 - 1 / 2 ~ 5 hours - 2 / 5 ~ 10 hours - 3 / 10 hours 이상 - 4)\n",
    "- failures - 과거 수업 실패 횟수 (0 ~ 4)\n",
    "- schoolsup - 추가 교육 여부 (yes - 0 / no - 1)\n",
    "- absences - 결석 수(0 ~ 93번)\n",
    "- address - 주소지 (U - 도시 , R - 시골)\n",
    "- G3 - 최종 성적 (0 ~ 20)"
   ]
  },
  {
   "cell_type": "code",
   "execution_count": 19,
   "id": "de0ffdce",
   "metadata": {},
   "outputs": [],
   "source": [
    "# 범주형 변수에 대한 StringIndexer 생성\n",
    "categorical_cols = [\"Mjob\", \"Fjob\", \"schoolsup\", \"address\"]\n",
    "indexers = [StringIndexer(inputCol=col, outputCol=col+\"_index\") for col in categorical_cols]"
   ]
  },
  {
   "cell_type": "code",
   "execution_count": 20,
   "id": "cd456475",
   "metadata": {},
   "outputs": [],
   "source": [
    "# OneHotEncoder 생성\n",
    "encoders = [OneHotEncoder(inputCol=col+\"_index\", outputCol=col+\"_vec\") for col in categorical_cols]"
   ]
  },
  {
   "cell_type": "code",
   "execution_count": 21,
   "id": "6743499a",
   "metadata": {},
   "outputs": [],
   "source": [
    "# 수치형 변수 선택\n",
    "numeric_cols = [\"Medu\", \"Fedu\", \"traveltime\", \"studytime\", \"failures\", \"absences\"]"
   ]
  },
  {
   "cell_type": "code",
   "execution_count": 22,
   "id": "7636a2e3",
   "metadata": {},
   "outputs": [],
   "source": [
    "# 모든 특성을 하나의 벡터로 조합\n",
    "assembler = VectorAssembler(\n",
    "    inputCols=[col+\"_vec\" for col in categorical_cols] + numeric_cols,\n",
    "    outputCol=\"features\"\n",
    ")"
   ]
  },
  {
   "cell_type": "code",
   "execution_count": null,
   "id": "a7124216",
   "metadata": {},
   "outputs": [],
   "source": []
  },
  {
   "cell_type": "code",
   "execution_count": 23,
   "id": "ba152a16",
   "metadata": {},
   "outputs": [],
   "source": [
    "# 선형 회귀 모델 생성\n",
    "lr = LinearRegression(featuresCol=\"features\", labelCol=\"G3\")"
   ]
  },
  {
   "cell_type": "code",
   "execution_count": 24,
   "id": "5079e4f8",
   "metadata": {},
   "outputs": [],
   "source": [
    "# 파이프라인 생성\n",
    "pipeline = Pipeline(stages=indexers + encoders + [assembler, lr])"
   ]
  },
  {
   "cell_type": "code",
   "execution_count": 25,
   "id": "e6fbea19",
   "metadata": {},
   "outputs": [],
   "source": [
    "# 데이터를 훈련셋과 테스트셋으로 분할\n",
    "train_data, test_data = df_com.randomSplit([0.8, 0.2], seed=42)"
   ]
  },
  {
   "cell_type": "code",
   "execution_count": 26,
   "id": "dff0330d",
   "metadata": {
    "scrolled": true
   },
   "outputs": [
    {
     "name": "stderr",
     "output_type": "stream",
     "text": [
      "24/12/20 14:32:43 WARN Instrumentation: [c8078efe] regParam is zero, which might cause numerical instability and overfitting.\n"
     ]
    }
   ],
   "source": [
    "# 모델 훈련\n",
    "model = pipeline.fit(train_data)"
   ]
  },
  {
   "cell_type": "code",
   "execution_count": 27,
   "id": "142fbf1b",
   "metadata": {},
   "outputs": [],
   "source": [
    "# 테스트 데이터에 대한 예측\n",
    "predictions = model.transform(test_data)"
   ]
  },
  {
   "cell_type": "code",
   "execution_count": 28,
   "id": "888e6108",
   "metadata": {},
   "outputs": [
    {
     "name": "stdout",
     "output_type": "stream",
     "text": [
      "+---+--------------------------------------------------------------------+------------------+\n",
      "|G3 |features                                                            |prediction        |\n",
      "+---+--------------------------------------------------------------------+------------------+\n",
      "|13 |(16,[2,4,10,11,12,13,15],[1.0,1.0,2.0,2.0,1.0,1.0,8.0])             |9.03826931646011  |\n",
      "|0  |(16,[1,6,8,10,11,12,13,14],[1.0,1.0,1.0,3.0,4.0,2.0,3.0,2.0])       |9.940247292789099 |\n",
      "|16 |(16,[0,4,8,10,11,12,13,15],[1.0,1.0,1.0,3.0,1.0,2.0,4.0,12.0])      |12.295252615108055|\n",
      "|11 |(16,[0,5,8,9,10,11,12,13],[1.0,1.0,1.0,1.0,1.0,1.0,1.0,2.0])        |11.483168014948609|\n",
      "|0  |(16,[5,8,9,10,11,12,13,14],[1.0,1.0,1.0,3.0,2.0,1.0,2.0,3.0])       |6.885621915296214 |\n",
      "|18 |(16,[1,4,8,9,10,11,12,13,15],[1.0,1.0,1.0,1.0,4.0,3.0,1.0,1.0,4.0]) |12.473568609417491|\n",
      "|11 |(16,[3,5,8,9,10,11,12,13,15],[1.0,1.0,1.0,1.0,4.0,4.0,1.0,3.0,2.0]) |12.524829111153995|\n",
      "|6  |(16,[1,4,8,9,10,11,12,13,15],[1.0,1.0,1.0,1.0,3.0,2.0,1.0,2.0,10.0])|12.670261401060051|\n",
      "|11 |(16,[1,4,8,9,10,11,12,13,15],[1.0,1.0,1.0,1.0,3.0,4.0,1.0,1.0,16.0])|12.1348298031497  |\n",
      "|10 |(16,[2,4,8,9,10,11,12,13,15],[1.0,1.0,1.0,1.0,1.0,1.0,2.0,1.0,6.0]) |10.885211573412054|\n",
      "+---+--------------------------------------------------------------------+------------------+\n",
      "only showing top 10 rows\n",
      "\n"
     ]
    }
   ],
   "source": [
    "# 예측값 확인\n",
    "predictions.select('G3','features','prediction').show(10, truncate=False)"
   ]
  },
  {
   "cell_type": "code",
   "execution_count": 29,
   "id": "7a1a19f1",
   "metadata": {},
   "outputs": [
    {
     "data": {
      "text/plain": [
       "3.535268318666568"
      ]
     },
     "execution_count": 29,
     "metadata": {},
     "output_type": "execute_result"
    }
   ],
   "source": [
    "# evaluator\n",
    "\n",
    "## 평가기 생성\n",
    "evaluator_rmse = RegressionEvaluator(labelCol='G3', predictionCol='prediction', metricName='rmse') #r2\n",
    "\n",
    "# 생성된 평가기에 함수 추가\n",
    "rmse = evaluator_rmse.evaluate(predictions)\n",
    "rmse"
   ]
  },
  {
   "cell_type": "code",
   "execution_count": null,
   "id": "6a0b3586",
   "metadata": {},
   "outputs": [],
   "source": []
  },
  {
   "cell_type": "code",
   "execution_count": 32,
   "id": "54d3d363",
   "metadata": {},
   "outputs": [],
   "source": [
    "# 예측값 저장\n",
    "predictions.select('G3', 'prediction').write.csv('data/output/grade_prediction.csv', header=True, mode='overwrite')"
   ]
  },
  {
   "cell_type": "code",
   "execution_count": null,
   "id": "249bb007",
   "metadata": {},
   "outputs": [],
   "source": []
  },
  {
   "cell_type": "code",
   "execution_count": 42,
   "id": "104c461c",
   "metadata": {},
   "outputs": [
    {
     "name": "stdout",
     "output_type": "stream",
     "text": [
      "saved\n"
     ]
    }
   ],
   "source": [
    "# 파이프라인 & 모델 저장\n",
    "\n",
    "## 저장소 경로\n",
    "model_save_path = 'data/output/grade_Ir_model'\n",
    "pipeline_save_path = 'data/output/grade_pipeline_model'\n",
    "\n",
    "model.write().overwrite().save(model_save_path)\n",
    "pipeline.write().overwrite().save(pipeline_save_path)\n",
    "\n",
    "print('saved')"
   ]
  },
  {
   "cell_type": "code",
   "execution_count": null,
   "id": "9f6fcf7c",
   "metadata": {},
   "outputs": [],
   "source": []
  },
  {
   "cell_type": "markdown",
   "id": "3a7029c8",
   "metadata": {},
   "source": [
    "## 새로운 데이터로 예측\n",
    "    1. 학생 최종 성적에 영향이 큰 '부모의 교육 수준'이 높다(higher education)고 가정할 경우의 학생 성적 예측\n",
    "    2. '과거 실패 경험' 이 적다고 가정할 경우, 학생 성적 예측"
   ]
  },
  {
   "cell_type": "code",
   "execution_count": 43,
   "id": "b1b16f46",
   "metadata": {},
   "outputs": [],
   "source": [
    "## 파이프라인 & 모델 로드\n",
    "from pyspark.ml import Pipeline\n",
    "from pyspark.ml import PipelineModel\n",
    "\n",
    "loaded_pipeline = Pipeline.load(pipeline_save_path)\n",
    "loaded_model = PipelineModel.load(model_save_path)"
   ]
  },
  {
   "cell_type": "code",
   "execution_count": 44,
   "id": "0647e0a8",
   "metadata": {},
   "outputs": [
    {
     "data": {
      "text/plain": [
       "(Pipeline_2fe0958eadaf, PipelineModel_9d6645a0c8e0)"
      ]
     },
     "execution_count": 44,
     "metadata": {},
     "output_type": "execute_result"
    }
   ],
   "source": [
    "loaded_pipeline, loaded_model"
   ]
  },
  {
   "cell_type": "code",
   "execution_count": 55,
   "id": "c28f01aa",
   "metadata": {},
   "outputs": [
    {
     "name": "stdout",
     "output_type": "stream",
     "text": [
      "+---+-------+-------+---------+-------+----+----+----------+---------+--------+--------+\n",
      "| G3|   Mjob|   Fjob|schoolsup|address|Medu|Fedu|traveltime|studytime|failures|absences|\n",
      "+---+-------+-------+---------+-------+----+----+----------+---------+--------+--------+\n",
      "|  6|at_home|teacher|      yes|      U|   4|   4|         2|        2|       0|       6|\n",
      "|  6|  other|teacher|      yes|      U|   4|   4|         2|        2|       0|       6|\n",
      "| 15|  other|  other|       no|      U|   3|   4|         1|        2|       0|       0|\n",
      "+---+-------+-------+---------+-------+----+----+----------+---------+--------+--------+\n",
      "only showing top 3 rows\n",
      "\n"
     ]
    }
   ],
   "source": [
    "## 1번 예측 \n",
    "\n",
    "### 아버지 교육 수준 가장 높은 '4'(higher education) 만 추출\n",
    "\n",
    "fedu_data = df_com.filter('Fedu == 4').select(\"G3\", \"Mjob\", \"Fjob\", \"schoolsup\", \"address\", \n",
    "                                              \"Medu\", \"Fedu\", \"traveltime\", \"studytime\", \"failures\", \"absences\")\n",
    "fedu_data.show(3)"
   ]
  },
  {
   "cell_type": "code",
   "execution_count": 66,
   "id": "3cadb3b7",
   "metadata": {},
   "outputs": [],
   "source": [
    "### 저장된 파이프라인 모델 적용\n",
    "predictions2 = loaded_model.transform(fedu_data)"
   ]
  },
  {
   "cell_type": "code",
   "execution_count": 58,
   "id": "cf412ccb",
   "metadata": {},
   "outputs": [
    {
     "name": "stdout",
     "output_type": "stream",
     "text": [
      "+---+--------------------+------------------+\n",
      "| G3|            features|        prediction|\n",
      "+---+--------------------+------------------+\n",
      "|  6|(16,[2,6,9,10,11,...|12.269795667828017|\n",
      "|  6|(16,[0,6,9,10,11,...|12.606167652547148|\n",
      "| 15|(16,[0,4,8,9,10,1...|12.211207037183124|\n",
      "|  9|(16,[3,8,9,10,11,...|12.558758826616563|\n",
      "| 14|(16,[5,8,9,10,11,...| 12.81136006962426|\n",
      "+---+--------------------+------------------+\n",
      "only showing top 5 rows\n",
      "\n"
     ]
    }
   ],
   "source": [
    "predictions2.select(\"G3\", \"features\", \"prediction\").show(5)"
   ]
  },
  {
   "cell_type": "code",
   "execution_count": 61,
   "id": "0643fec3",
   "metadata": {},
   "outputs": [
    {
     "name": "stdout",
     "output_type": "stream",
     "text": [
      "+-----------------+\n",
      "|  avg(prediction)|\n",
      "+-----------------+\n",
      "|12.34227798840152|\n",
      "+-----------------+\n",
      "\n"
     ]
    }
   ],
   "source": [
    "### prediction의 평균 값 \n",
    "from pyspark.sql import functions as F\n",
    "\n",
    "fedu_pre_avg = predictions2.agg(F.avg('prediction'))\n",
    "fedu_pre_avg.show()"
   ]
  },
  {
   "cell_type": "code",
   "execution_count": null,
   "id": "27023b10",
   "metadata": {},
   "outputs": [],
   "source": []
  },
  {
   "cell_type": "code",
   "execution_count": 63,
   "id": "e8ac70fc",
   "metadata": {},
   "outputs": [
    {
     "name": "stdout",
     "output_type": "stream",
     "text": [
      "+---+--------------------+------------------+\n",
      "| G3|            features|        prediction|\n",
      "+---+--------------------+------------------+\n",
      "|  6|(16,[2,6,9,10,11,...|12.269795667828017|\n",
      "|  6|(16,[2,4,8,9,10,1...|11.410554227856215|\n",
      "| 15|(16,[5,8,9,10,11,...| 13.76104337897582|\n",
      "| 10|(16,[0,4,8,9,10,1...|12.182044052172644|\n",
      "| 15|(16,[1,4,8,9,10,1...|  12.8878203208587|\n",
      "+---+--------------------+------------------+\n",
      "only showing top 5 rows\n",
      "\n"
     ]
    }
   ],
   "source": [
    "## 2번 예측\n",
    "\n",
    "### 과거 실패 경험 적은 것만 추출\n",
    "\n",
    "failures_data = df_com.filter('failures == 0').select(\"G3\", \"Mjob\", \"Fjob\", \"schoolsup\", \"address\", \n",
    "                                              \"Medu\", \"Fedu\", \"traveltime\", \"studytime\", \"failures\", \"absences\")\n",
    "\n",
    "### 저장된 파이프라인 모델 적용\n",
    "predictions3 = loaded_model.transform(failures_data)\n",
    "\n",
    "predictions3.select(\"G3\", \"features\", \"prediction\").show(5)"
   ]
  },
  {
   "cell_type": "code",
   "execution_count": 64,
   "id": "b2e57bdd",
   "metadata": {},
   "outputs": [
    {
     "name": "stdout",
     "output_type": "stream",
     "text": [
      "+-----------------+\n",
      "|  avg(prediction)|\n",
      "+-----------------+\n",
      "|11.97802656109692|\n",
      "+-----------------+\n",
      "\n"
     ]
    }
   ],
   "source": [
    "### prediction의 평균 값 \n",
    "failures_pre_avg = predictions3.agg(F.avg('prediction'))\n",
    "failures_pre_avg.show()"
   ]
  },
  {
   "cell_type": "code",
   "execution_count": null,
   "id": "0f918ddc",
   "metadata": {},
   "outputs": [],
   "source": []
  },
  {
   "cell_type": "markdown",
   "id": "1342bdaf",
   "metadata": {},
   "source": [
    "# 활용 방안 및 인사이트 도출"
   ]
  },
  {
   "cell_type": "markdown",
   "id": "9665e466",
   "metadata": {},
   "source": [
    "## 활용 방안\n",
    "1.1 학생 성적 예측  \n",
    "    목적: 학생의 과거 학업 기록 및 환경적 요인을 기반으로 최종 성적(G3)을 예측.  \n",
    "    활용: 교사는 학생의 성적 향상을 위한 맞춤형 학습 계획을 세울 수 있습니다.  \n",
    "          학습 부진 학생을 조기에 식별하여 추가 지원 제공 가능.  \n",
    "          부모와의 상담 시 객관적인 데이터 기반으로 논의 가능.  \n",
    "\n",
    "1.2 교육 정책 개선  \n",
    "    목적: 학업 성취도에 영향을 미치는 주요 요인을 파악하여 정책 개선.  \n",
    "    활용: 학업 시간(studytime)과 부모의 교육 수준(Medu, Fedu)이 성적에 긍정적인 영향을 미침을 확인.  \n",
    "          학교 외 활동(goout) 및 알코올 소비(Dalc, Walc)을 관리 가능.  \n",
    "          이를 바탕으로 학생들의 학습 환경 개선 및 건강한 생활 습관 장려.  \n",
    "\n",
    "1.3 출결 관리  \n",
    "결석(absences)이 성적에 약한 상관관계를 보이므로, 결석률 관리 정책 강화 가능."
   ]
  },
  {
   "cell_type": "markdown",
   "id": "5ba45e8c",
   "metadata": {},
   "source": [
    "## 데이터 분석 인사이트\n",
    "\n",
    "2.1 주요 요인 분석  \n",
    "    긍정적 영향:  \n",
    "    부모의 교육 수준(Medu, Fedu): 부모의 높은 교육 수준은 학생의 높은 성취도와 관련.  \n",
    "    학습 시간(studytime): 학습 시간이 많을수록 성적이 높아지는 경향.  \n",
    "    부정적 영향:  \n",
    "    실패 경험(failures): 실패 횟수가 많을수록 성적이 낮아짐.  \n",
    "    외출 빈도(goout): 외출 빈도가 높을수록 성적이 낮아지는 경향.  \n",
    "    주말 알코올 소비(Walc): 높은 알코올 소비는 낮은 성적과 연관.  \n",
    "    \n",
    "2.2 성적 분포  \n",
    "대부분의 학생들이 중간 점수(8 ~ 14점)에 분포하며, 일부 학생은 높은 점수(15점 이상)를 기록.  \n",
    "낮은 점수(0 ~ 5점) 구간에 속하는 학생들도 존재하며, 이들에 대한 추가 지원 필요.  \n",
    "\n",
    "2.3 상관 관계  \n",
    "시험 점수(G1, G2)는 최종 점수(G3)와 상관관계를 보임.  \n",
    "이는 이전 시험 점수가 최종 성적을 예측하는 데 중요한 변수임을 나타냄.  \n",
    "\n",
    "3. 회귀 모델 결과 활용  \n",
    "회귀 모델을 통해 최종 점수를 예측함으로써, 학생 개개인의 학업 상태를 사전에 평가 가능.  \n",
    "예측 결과를 기반으로 특정 그룹(예: 실패 횟수가 많은 학생)에 대해 추가 지원 제공 가능.  \n",
    "심리 상태, 교우 관계, 학교 시설 만족도 등 추가 요인 고려하여 예측 가능.  "
   ]
  },
  {
   "cell_type": "code",
   "execution_count": null,
   "id": "062b5c13",
   "metadata": {},
   "outputs": [],
   "source": []
  },
  {
   "cell_type": "code",
   "execution_count": null,
   "id": "35fdeaff",
   "metadata": {},
   "outputs": [],
   "source": []
  },
  {
   "cell_type": "code",
   "execution_count": 67,
   "id": "5acdd213",
   "metadata": {},
   "outputs": [],
   "source": [
    "spark.stop()"
   ]
  },
  {
   "cell_type": "code",
   "execution_count": null,
   "id": "d19c5091",
   "metadata": {},
   "outputs": [],
   "source": []
  }
 ],
 "metadata": {
  "kernelspec": {
   "display_name": "Python (spark_start)",
   "language": "python",
   "name": "spark_start"
  },
  "language_info": {
   "codemirror_mode": {
    "name": "ipython",
    "version": 3
   },
   "file_extension": ".py",
   "mimetype": "text/x-python",
   "name": "python",
   "nbconvert_exporter": "python",
   "pygments_lexer": "ipython3",
   "version": "3.8.20"
  }
 },
 "nbformat": 4,
 "nbformat_minor": 5
}
